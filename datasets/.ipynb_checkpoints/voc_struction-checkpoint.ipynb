{
 "cells": [
  {
   "cell_type": "code",
   "execution_count": 46,
   "metadata": {},
   "outputs": [],
   "source": [
    "import os\n",
    "from IPython.core.interactiveshell import InteractiveShell\n",
    "InteractiveShell.ast_node_interactivity = \"all\" \n",
    "\n",
    "input_path = '/Users/speciallan/Documents/python/data/VOCdevkit'\n",
    "data_paths = [os.path.join(input_path, s) for s in ['VOC2007']]\n",
    "\n",
    "data_path = data_paths[0]\n",
    "\n",
    "# 解析数据集文件夹\n",
    "anno_path = os.path.join(data_path, 'Annotations')\n",
    "imgs_path = os.path.join(data_path, 'JPEGImages')\n",
    "\n",
    "# 获取训练、测试集图片文件名\n",
    "imgsets_path_trainval = os.path.join(data_path, 'ImageSets', 'Main', 'trainval.txt')\n",
    "imgsets_path_test = os.path.join(data_path, 'ImageSets', 'Main', 'test.txt')"
   ]
  },
  {
   "cell_type": "code",
   "execution_count": 59,
   "metadata": {},
   "outputs": [
    {
     "data": {
      "text/plain": [
       "('img size', '500', '375')"
      ]
     },
     "execution_count": 59,
     "metadata": {},
     "output_type": "execute_result"
    },
    {
     "data": {
      "text/plain": [
       "('object xy', '80', '320')"
      ]
     },
     "execution_count": 59,
     "metadata": {},
     "output_type": "execute_result"
    }
   ],
   "source": [
    "trainval_files = []\n",
    "test_files = []\n",
    "\n",
    "# 讲训练、测试集图片文件名写入到数组\n",
    "try:\n",
    "    with open(imgsets_path_trainval) as f:\n",
    "        for line in f:\n",
    "            trainval_files.append(line.strip() + '.jpg')\n",
    "\n",
    "except Exception as e:\n",
    "    print(e)\n",
    "    \n",
    "annos = [os.path.join(anno_path, s) for s in os.listdir(anno_path)]\n",
    "# annos\n",
    "anno = annos[0]\n",
    "\n",
    "import xml.etree.cElementTree as ET\n",
    "et = ET.parse(anno)\n",
    "\n",
    "# 获取xml根节点\n",
    "element = et.getroot()\n",
    "\n",
    "\n",
    "# size\n",
    "element_size = element.find('size')\n",
    "img_width = element_size.find('width').text\n",
    "img_height = element_size.find('height').text\n",
    "'img size', img_width, img_height\n",
    "\n",
    "# 获取所有检测物体\n",
    "element_objs = element.findall('object')\n",
    "element_obj = element_objs[0]\n",
    "\n",
    "# object\n",
    "obj_name = element_obj.find('name').text\n",
    "obj_bndbox = element_obj.find('bndbox')\n",
    "obj_xmin = obj_bndbox.find('xmin').text\n",
    "obj_xmax = obj_bndbox.find('xmax').text\n",
    "\n",
    "'object xy', obj_xmin, obj_xmax\n",
    "\n",
    "# tree.findall('country[@name=\"Singapore\"]')   // name属性为Singapore的country\n",
    "# tree.findall('country[rank]')   // 孩子元素中包含rank的country\n",
    "# tree.findall('country[rank=\"1\"]')   // 孩子元素中包含rank且rank元素的text为1的country\n",
    "\n",
    "\n",
    "# element_filename = element.find('filename').text\n",
    "       \n",
    "# element_objs\n",
    "# element_filename"
   ]
  },
  {
   "cell_type": "code",
   "execution_count": 74,
   "metadata": {},
   "outputs": [],
   "source": [
    "# insert\n",
    "from xml.etree.ElementTree import Element,ElementTree,tostring\n",
    "import xml.dom.minidom as minidom\n",
    "\n",
    "root = ET.Element('bookList')\n",
    "    \n",
    "#==============添加节点========================\n",
    "#向root节点下插入节点<book id='ISO001'>\n",
    "bookE = ET.SubElement(root,'book')#方式一\n",
    "\n",
    "bookE.set('id', 'ISO001')#为节点添加属性\n",
    "#向<book>节点下插入<author>Gaosilin</version>节点\n",
    "authorE = ET.Element('author')\n",
    "authorE.text = 'Gaosilin'#为节点赋值\n",
    "\n",
    "bookE.append(authorE)#方式二\n",
    "##向<book>节点下插入<name>Java</name>节点\n",
    "nameE = ET.Element('name')\n",
    "nameE.text = 'java'\n",
    "\n",
    "bookE.insert(1,nameE)#方式三\n",
    "\n",
    "\n",
    "\n",
    "#==============删除节点========================\n",
    "# bookE.remove(nameE)#注意需删除的节点一定要是该父节点的下一级节点\n",
    "# bookE.remove(authorE)\n",
    "# bookE.clear()#删除该节点下的所有子节点，等价于上两句\n",
    "# root.remove(bookE)\n",
    "\n",
    "# rough_string = ET.tostring(root, 'utf-8')\n",
    "# reparsed = minidom.parseString(rough_string)\n"
   ]
  },
  {
   "cell_type": "code",
   "execution_count": 75,
   "metadata": {},
   "outputs": [],
   "source": [
    "\n",
    "def prettyXml(element, indent, newline, level = 0): # elemnt为传进来的Elment类，参数indent用于缩进，newline用于换行  \n",
    "    if element:  # 判断element是否有子元素  \n",
    "        if element.text == None or element.text.isspace(): # 如果element的text没有内容  \n",
    "            element.text = newline + indent * (level + 1)    \n",
    "        else:  \n",
    "            element.text = newline + indent * (level + 1) + element.text.strip() + newline + indent * (level + 1)  \n",
    "    #else:  # 此处两行如果把注释去掉，Element的text也会另起一行  \n",
    "        #element.text = newline + indent * (level + 1) + element.text.strip() + newline + indent * level  \n",
    "    temp = list(element) # 将elemnt转成list  \n",
    "    for subelement in temp:  \n",
    "        if temp.index(subelement) < (len(temp) - 1): # 如果不是list的最后一个元素，说明下一个行是同级别元素的起始，缩进应一致  \n",
    "            subelement.tail = newline + indent * (level + 1)  \n",
    "        else:  # 如果是list的最后一个元素， 说明下一行是母元素的结束，缩进应该少一个  \n",
    "            subelement.tail = newline + indent * level  \n",
    "        prettyXml(subelement, indent, newline, level = level + 1) # 对子元素进行递归操作  \n",
    "        \n",
    "prettyXml(root, '\\t', '\\n')\n",
    "\n",
    "et=ElementTree(root)\n",
    "et.write(\"test.xml\",'utf-8',True,method='xml')"
   ]
  }
 ],
 "metadata": {
  "kernelspec": {
   "display_name": "Python 3",
   "language": "python",
   "name": "python3"
  },
  "language_info": {
   "codemirror_mode": {
    "name": "ipython",
    "version": 3
   },
   "file_extension": ".py",
   "mimetype": "text/x-python",
   "name": "python",
   "nbconvert_exporter": "python",
   "pygments_lexer": "ipython3",
   "version": "3.6.5"
  }
 },
 "nbformat": 4,
 "nbformat_minor": 2
}
